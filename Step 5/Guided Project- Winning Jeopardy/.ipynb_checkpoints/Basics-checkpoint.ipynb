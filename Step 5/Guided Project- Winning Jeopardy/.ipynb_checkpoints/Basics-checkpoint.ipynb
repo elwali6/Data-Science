{
 "cells": [
  {
   "cell_type": "code",
   "execution_count": 2,
   "metadata": {
    "collapsed": false
   },
   "outputs": [
    {
     "data": {
      "text/html": [
       "<div>\n",
       "<table border=\"1\" class=\"dataframe\">\n",
       "  <thead>\n",
       "    <tr style=\"text-align: right;\">\n",
       "      <th></th>\n",
       "      <th>Show Number</th>\n",
       "      <th>Air Date</th>\n",
       "      <th>Round</th>\n",
       "      <th>Category</th>\n",
       "      <th>Value</th>\n",
       "      <th>Question</th>\n",
       "      <th>Answer</th>\n",
       "    </tr>\n",
       "  </thead>\n",
       "  <tbody>\n",
       "    <tr>\n",
       "      <th>0</th>\n",
       "      <td>4680</td>\n",
       "      <td>2004-12-31</td>\n",
       "      <td>Jeopardy!</td>\n",
       "      <td>HISTORY</td>\n",
       "      <td>$200</td>\n",
       "      <td>For the last 8 years of his life, Galileo was ...</td>\n",
       "      <td>Copernicus</td>\n",
       "    </tr>\n",
       "    <tr>\n",
       "      <th>1</th>\n",
       "      <td>4680</td>\n",
       "      <td>2004-12-31</td>\n",
       "      <td>Jeopardy!</td>\n",
       "      <td>ESPN's TOP 10 ALL-TIME ATHLETES</td>\n",
       "      <td>$200</td>\n",
       "      <td>No. 2: 1912 Olympian; football star at Carlisl...</td>\n",
       "      <td>Jim Thorpe</td>\n",
       "    </tr>\n",
       "    <tr>\n",
       "      <th>2</th>\n",
       "      <td>4680</td>\n",
       "      <td>2004-12-31</td>\n",
       "      <td>Jeopardy!</td>\n",
       "      <td>EVERYBODY TALKS ABOUT IT...</td>\n",
       "      <td>$200</td>\n",
       "      <td>The city of Yuma in this state has a record av...</td>\n",
       "      <td>Arizona</td>\n",
       "    </tr>\n",
       "    <tr>\n",
       "      <th>3</th>\n",
       "      <td>4680</td>\n",
       "      <td>2004-12-31</td>\n",
       "      <td>Jeopardy!</td>\n",
       "      <td>THE COMPANY LINE</td>\n",
       "      <td>$200</td>\n",
       "      <td>In 1963, live on \"The Art Linkletter Show\", th...</td>\n",
       "      <td>McDonald's</td>\n",
       "    </tr>\n",
       "    <tr>\n",
       "      <th>4</th>\n",
       "      <td>4680</td>\n",
       "      <td>2004-12-31</td>\n",
       "      <td>Jeopardy!</td>\n",
       "      <td>EPITAPHS &amp; TRIBUTES</td>\n",
       "      <td>$200</td>\n",
       "      <td>Signer of the Dec. of Indep., framer of the Co...</td>\n",
       "      <td>John Adams</td>\n",
       "    </tr>\n",
       "  </tbody>\n",
       "</table>\n",
       "</div>"
      ],
      "text/plain": [
       "   Show Number    Air Date      Round                         Category  Value  \\\n",
       "0         4680  2004-12-31  Jeopardy!                          HISTORY   $200   \n",
       "1         4680  2004-12-31  Jeopardy!  ESPN's TOP 10 ALL-TIME ATHLETES   $200   \n",
       "2         4680  2004-12-31  Jeopardy!      EVERYBODY TALKS ABOUT IT...   $200   \n",
       "3         4680  2004-12-31  Jeopardy!                 THE COMPANY LINE   $200   \n",
       "4         4680  2004-12-31  Jeopardy!              EPITAPHS & TRIBUTES   $200   \n",
       "\n",
       "                                            Question      Answer  \n",
       "0  For the last 8 years of his life, Galileo was ...  Copernicus  \n",
       "1  No. 2: 1912 Olympian; football star at Carlisl...  Jim Thorpe  \n",
       "2  The city of Yuma in this state has a record av...     Arizona  \n",
       "3  In 1963, live on \"The Art Linkletter Show\", th...  McDonald's  \n",
       "4  Signer of the Dec. of Indep., framer of the Co...  John Adams  "
      ]
     },
     "execution_count": 2,
     "metadata": {},
     "output_type": "execute_result"
    }
   ],
   "source": [
    "import pandas as pd\n",
    "\n",
    "jeopardy = pd.read_csv('jeopardy.csv')\n",
    "jeopardy.head()"
   ]
  },
  {
   "cell_type": "code",
   "execution_count": 3,
   "metadata": {
    "collapsed": false
   },
   "outputs": [
    {
     "data": {
      "text/plain": [
       "Index(['Show Number', ' Air Date', ' Round', ' Category', ' Value',\n",
       "       ' Question', ' Answer'],\n",
       "      dtype='object')"
      ]
     },
     "execution_count": 3,
     "metadata": {},
     "output_type": "execute_result"
    }
   ],
   "source": [
    "jeopardy.columns"
   ]
  },
  {
   "cell_type": "code",
   "execution_count": 4,
   "metadata": {
    "collapsed": false
   },
   "outputs": [
    {
     "data": {
      "text/plain": [
       "Index(['Show Number', 'Air Date', 'Round', 'Category', 'Value', 'Question',\n",
       "       'Answer'],\n",
       "      dtype='object')"
      ]
     },
     "execution_count": 4,
     "metadata": {},
     "output_type": "execute_result"
    }
   ],
   "source": [
    "jeopardy.columns = jeopardy.columns.str.strip()\n",
    "jeopardy.columns"
   ]
  },
  {
   "cell_type": "code",
   "execution_count": 5,
   "metadata": {
    "collapsed": false
   },
   "outputs": [
    {
     "data": {
      "text/plain": [
       "0        for the last 8 years of his life galileo was u...\n",
       "1        no 2 1912 olympian football star at carlisle i...\n",
       "2        the city of yuma in this state has a record av...\n",
       "3        in 1963 live on the art linkletter show this c...\n",
       "4        signer of the dec of indep framer of the const...\n",
       "5        in the title of an aesop fable this insect sha...\n",
       "6        built in 312 bc to link rome  the south of ita...\n",
       "7        no 8 30 steals for the birmingham barons 2306 ...\n",
       "8        in the winter of 197172 a record 1122 inches o...\n",
       "9        this housewares store was named for the packag...\n",
       "10                                          and away we go\n",
       "11       cows regurgitate this from the first stomach t...\n",
       "12       in 1000 rajaraja i of the cholas battled to ta...\n",
       "13       no 1 lettered in hoops football  lacrosse at s...\n",
       "14       on june 28 1994 the natl weather service began...\n",
       "15       this companys accutron watch introduced in 196...\n",
       "16       outlaw murdered by a traitor and a coward whos...\n",
       "17       a small demon or a mischievous child who might...\n",
       "18       karl led the first of these marxist organizati...\n",
       "19       no 10 fblb for columbia u in the 1920s mvp for...\n",
       "20       africas lowest temperature was 11 degrees belo...\n",
       "21       edward teller  this man partnered in 1898 to s...\n",
       "22       1939 oscar winner you are a credit to your cra...\n",
       "23       in geologic time one of these shorter than an ...\n",
       "24       this asian political party was founded in 1885...\n",
       "25       no 5 only center to lead the nba in assists tr...\n",
       "26       the kirschner brothers don  bill named this sk...\n",
       "27       revolutionary war hero his spirit is in vermon...\n",
       "28       a single layer of paper or to perform ones cra...\n",
       "29       a hrefhttpwwwjarchivecommedia20041231dj23mp3be...\n",
       "                               ...                        \n",
       "19969    in 1960 the last of these locomotives was reti...\n",
       "19970    kate if i be waspish best beware my sting his ...\n",
       "19971    this private college in northern california bo...\n",
       "19972    she voiced princess pea in the tale of despere...\n",
       "19973    its the name of the longawaited new white hous...\n",
       "19974    langdon in angels  demons is looking for a hre...\n",
       "19975    in the 1600s most of new york state was occupi...\n",
       "19976                marinas dad need a hint he rules tyre\n",
       "19977    presidential kids are welcome at this new orle...\n",
       "19978    she didnt vamp it up  did a bella job as em in...\n",
       "19979    third syllable intoned by the giant who smells...\n",
       "19980    much of angels  demons takes place at one of a...\n",
       "19981    in 1899 secretary of state john hay proclaimed...\n",
       "19982    fruity surname of peter in a midsummer nights ...\n",
       "19983    quincy jones kevin eubanks  branford marsalis ...\n",
       "19984    in 2009 she returned to being fast  furious as...\n",
       "19985    the book of genesis says this ancient city of ...\n",
       "19986    habakkuk and the angel is one of a series of a...\n",
       "19987    in medieval england it meant the smallest unit...\n",
       "19988    this texas city is the largest in the us to ha...\n",
       "19989                                         the crickets\n",
       "19990    in the 990s this son of erik the red brought c...\n",
       "19991    concerning a failed windows 98 demonstration h...\n",
       "19992    this llama product is used to make hats blanke...\n",
       "19993    in 1967 this company introduced its chocolatec...\n",
       "19994    of 8 12 or 18 the number of us states that tou...\n",
       "19995                             the new power generation\n",
       "19996    in 1589 he was appointed professor of mathemat...\n",
       "19997    before the grand jury she said im really sorry...\n",
       "19998    llamas are the heftiest south american members...\n",
       "Name: clean_question, dtype: object"
      ]
     },
     "execution_count": 5,
     "metadata": {},
     "output_type": "execute_result"
    }
   ],
   "source": [
    "import string\n",
    "def normalize(col):\n",
    "    col = col.lower()\n",
    "    col = ''.join(i for i in col if i not in string.punctuation)\n",
    "    return col\n",
    "\n",
    "jeopardy['clean_question'] = jeopardy['Question'].apply(normalize)\n",
    "jeopardy['clean_question']"
   ]
  },
  {
   "cell_type": "code",
   "execution_count": 6,
   "metadata": {
    "collapsed": false
   },
   "outputs": [
    {
     "data": {
      "text/plain": [
       "0                                               copernicus\n",
       "1                                               jim thorpe\n",
       "2                                                  arizona\n",
       "3                                                mcdonalds\n",
       "4                                               john adams\n",
       "5                                                  the ant\n",
       "6                                           the appian way\n",
       "7                                           michael jordan\n",
       "8                                               washington\n",
       "9                                            crate  barrel\n",
       "10                                          jackie gleason\n",
       "11                                                 the cud\n",
       "12                                     ceylon or sri lanka\n",
       "13                                               jim brown\n",
       "14                                            the uv index\n",
       "15                                                  bulova\n",
       "16                                             jesse james\n",
       "17                                                     imp\n",
       "18                                       the international\n",
       "19                                              lou gehrig\n",
       "20                                                 morocco\n",
       "21                                             paul bonwit\n",
       "22       hattie mcdaniel for her role in gone with the ...\n",
       "23                                                     era\n",
       "24                                      the congress party\n",
       "25                                        wilt chamberlain\n",
       "26                                                      k2\n",
       "27                                             ethan allen\n",
       "28                                                     ply\n",
       "29                                                  horton\n",
       "                               ...                        \n",
       "19969                                        steam engines\n",
       "19970                                            petruchio\n",
       "19971                                  stanford university\n",
       "19972                                          emma watson\n",
       "19973                                                   bo\n",
       "19974                                   an antimatter bomb\n",
       "19975                                         the iroquois\n",
       "19976                                             pericles\n",
       "19977                                               tulane\n",
       "19978                                      kristen stewart\n",
       "19979                                                   fo\n",
       "19980                                           a conclave\n",
       "19981                                      opendoor policy\n",
       "19982                                               quince\n",
       "19983                                              berklee\n",
       "19984                                   michelle rodriguez\n",
       "19985                                                   ur\n",
       "19986                                              bernini\n",
       "19987                                                 atom\n",
       "19988                                    houston lee brown\n",
       "19989                                          buddy holly\n",
       "19990                                         leif ericson\n",
       "19991                                           bill gates\n",
       "19992                                                 wool\n",
       "19993                                              hostess\n",
       "19994                                                   18\n",
       "19995                                               prince\n",
       "19996                                              galileo\n",
       "19997                                      monica lewinsky\n",
       "19998                                               camels\n",
       "Name: clean_answer, dtype: object"
      ]
     },
     "execution_count": 6,
     "metadata": {},
     "output_type": "execute_result"
    }
   ],
   "source": [
    "jeopardy['clean_answer'] = jeopardy['Answer'].apply(normalize)\n",
    "jeopardy['clean_answer']"
   ]
  },
  {
   "cell_type": "code",
   "execution_count": 7,
   "metadata": {
    "collapsed": false
   },
   "outputs": [
    {
     "data": {
      "text/html": [
       "<div>\n",
       "<table border=\"1\" class=\"dataframe\">\n",
       "  <thead>\n",
       "    <tr style=\"text-align: right;\">\n",
       "      <th></th>\n",
       "      <th>Show Number</th>\n",
       "      <th>Air Date</th>\n",
       "      <th>Round</th>\n",
       "      <th>Category</th>\n",
       "      <th>Value</th>\n",
       "      <th>Question</th>\n",
       "      <th>Answer</th>\n",
       "      <th>clean_question</th>\n",
       "      <th>clean_answer</th>\n",
       "    </tr>\n",
       "  </thead>\n",
       "  <tbody>\n",
       "    <tr>\n",
       "      <th>0</th>\n",
       "      <td>4680</td>\n",
       "      <td>2004-12-31</td>\n",
       "      <td>Jeopardy!</td>\n",
       "      <td>HISTORY</td>\n",
       "      <td>$200</td>\n",
       "      <td>For the last 8 years of his life, Galileo was ...</td>\n",
       "      <td>Copernicus</td>\n",
       "      <td>for the last 8 years of his life galileo was u...</td>\n",
       "      <td>copernicus</td>\n",
       "    </tr>\n",
       "    <tr>\n",
       "      <th>1</th>\n",
       "      <td>4680</td>\n",
       "      <td>2004-12-31</td>\n",
       "      <td>Jeopardy!</td>\n",
       "      <td>ESPN's TOP 10 ALL-TIME ATHLETES</td>\n",
       "      <td>$200</td>\n",
       "      <td>No. 2: 1912 Olympian; football star at Carlisl...</td>\n",
       "      <td>Jim Thorpe</td>\n",
       "      <td>no 2 1912 olympian football star at carlisle i...</td>\n",
       "      <td>jim thorpe</td>\n",
       "    </tr>\n",
       "    <tr>\n",
       "      <th>2</th>\n",
       "      <td>4680</td>\n",
       "      <td>2004-12-31</td>\n",
       "      <td>Jeopardy!</td>\n",
       "      <td>EVERYBODY TALKS ABOUT IT...</td>\n",
       "      <td>$200</td>\n",
       "      <td>The city of Yuma in this state has a record av...</td>\n",
       "      <td>Arizona</td>\n",
       "      <td>the city of yuma in this state has a record av...</td>\n",
       "      <td>arizona</td>\n",
       "    </tr>\n",
       "    <tr>\n",
       "      <th>3</th>\n",
       "      <td>4680</td>\n",
       "      <td>2004-12-31</td>\n",
       "      <td>Jeopardy!</td>\n",
       "      <td>THE COMPANY LINE</td>\n",
       "      <td>$200</td>\n",
       "      <td>In 1963, live on \"The Art Linkletter Show\", th...</td>\n",
       "      <td>McDonald's</td>\n",
       "      <td>in 1963 live on the art linkletter show this c...</td>\n",
       "      <td>mcdonalds</td>\n",
       "    </tr>\n",
       "    <tr>\n",
       "      <th>4</th>\n",
       "      <td>4680</td>\n",
       "      <td>2004-12-31</td>\n",
       "      <td>Jeopardy!</td>\n",
       "      <td>EPITAPHS &amp; TRIBUTES</td>\n",
       "      <td>$200</td>\n",
       "      <td>Signer of the Dec. of Indep., framer of the Co...</td>\n",
       "      <td>John Adams</td>\n",
       "      <td>signer of the dec of indep framer of the const...</td>\n",
       "      <td>john adams</td>\n",
       "    </tr>\n",
       "    <tr>\n",
       "      <th>5</th>\n",
       "      <td>4680</td>\n",
       "      <td>2004-12-31</td>\n",
       "      <td>Jeopardy!</td>\n",
       "      <td>3-LETTER WORDS</td>\n",
       "      <td>$200</td>\n",
       "      <td>In the title of an Aesop fable, this insect sh...</td>\n",
       "      <td>the ant</td>\n",
       "      <td>in the title of an aesop fable this insect sha...</td>\n",
       "      <td>the ant</td>\n",
       "    </tr>\n",
       "  </tbody>\n",
       "</table>\n",
       "</div>"
      ],
      "text/plain": [
       "   Show Number    Air Date      Round                         Category Value  \\\n",
       "0         4680  2004-12-31  Jeopardy!                          HISTORY  $200   \n",
       "1         4680  2004-12-31  Jeopardy!  ESPN's TOP 10 ALL-TIME ATHLETES  $200   \n",
       "2         4680  2004-12-31  Jeopardy!      EVERYBODY TALKS ABOUT IT...  $200   \n",
       "3         4680  2004-12-31  Jeopardy!                 THE COMPANY LINE  $200   \n",
       "4         4680  2004-12-31  Jeopardy!              EPITAPHS & TRIBUTES  $200   \n",
       "5         4680  2004-12-31  Jeopardy!                   3-LETTER WORDS  $200   \n",
       "\n",
       "                                            Question      Answer  \\\n",
       "0  For the last 8 years of his life, Galileo was ...  Copernicus   \n",
       "1  No. 2: 1912 Olympian; football star at Carlisl...  Jim Thorpe   \n",
       "2  The city of Yuma in this state has a record av...     Arizona   \n",
       "3  In 1963, live on \"The Art Linkletter Show\", th...  McDonald's   \n",
       "4  Signer of the Dec. of Indep., framer of the Co...  John Adams   \n",
       "5  In the title of an Aesop fable, this insect sh...     the ant   \n",
       "\n",
       "                                      clean_question clean_answer  \n",
       "0  for the last 8 years of his life galileo was u...   copernicus  \n",
       "1  no 2 1912 olympian football star at carlisle i...   jim thorpe  \n",
       "2  the city of yuma in this state has a record av...      arizona  \n",
       "3  in 1963 live on the art linkletter show this c...    mcdonalds  \n",
       "4  signer of the dec of indep framer of the const...   john adams  \n",
       "5  in the title of an aesop fable this insect sha...      the ant  "
      ]
     },
     "execution_count": 7,
     "metadata": {},
     "output_type": "execute_result"
    }
   ],
   "source": [
    "jeopardy.head(6)"
   ]
  },
  {
   "cell_type": "code",
   "execution_count": 8,
   "metadata": {
    "collapsed": false
   },
   "outputs": [
    {
     "data": {
      "text/plain": [
       "Show Number        int64\n",
       "Air Date          object\n",
       "Round             object\n",
       "Category          object\n",
       "Value             object\n",
       "Question          object\n",
       "Answer            object\n",
       "clean_question    object\n",
       "clean_answer      object\n",
       "dtype: object"
      ]
     },
     "execution_count": 8,
     "metadata": {},
     "output_type": "execute_result"
    }
   ],
   "source": [
    "# object == string\n",
    "jeopardy.dtypes"
   ]
  },
  {
   "cell_type": "code",
   "execution_count": 9,
   "metadata": {
    "collapsed": false
   },
   "outputs": [
    {
     "data": {
      "text/plain": [
       "0         200\n",
       "1         200\n",
       "2         200\n",
       "3         200\n",
       "4         200\n",
       "5         200\n",
       "6         400\n",
       "7         400\n",
       "8         400\n",
       "9         400\n",
       "10        400\n",
       "11        400\n",
       "12        600\n",
       "13        600\n",
       "14        600\n",
       "15        600\n",
       "16        600\n",
       "17        600\n",
       "18        800\n",
       "19        800\n",
       "20        800\n",
       "21        800\n",
       "22       2000\n",
       "23        800\n",
       "24       1000\n",
       "25       1000\n",
       "26       1000\n",
       "27       1000\n",
       "28       1000\n",
       "29        400\n",
       "         ... \n",
       "19969    1200\n",
       "19970    1200\n",
       "19971    1500\n",
       "19972    1200\n",
       "19973    1200\n",
       "19974    1200\n",
       "19975    1600\n",
       "19976    1600\n",
       "19977    1600\n",
       "19978    1600\n",
       "19979    1600\n",
       "19980    1600\n",
       "19981    1200\n",
       "19982    2000\n",
       "19983    2000\n",
       "19984    2000\n",
       "19985    2000\n",
       "19986    2000\n",
       "19987       0\n",
       "19988     100\n",
       "19989     100\n",
       "19990     100\n",
       "19991     100\n",
       "19992     100\n",
       "19993     100\n",
       "19994     200\n",
       "19995     200\n",
       "19996     200\n",
       "19997     200\n",
       "19998     200\n",
       "Name: clean_value, dtype: int64"
      ]
     },
     "execution_count": 9,
     "metadata": {},
     "output_type": "execute_result"
    }
   ],
   "source": [
    "def normalize_value(col):\n",
    "    col = ''.join(i for i in col if i not in string.punctuation)\n",
    "    try:\n",
    "        col = int(col)\n",
    "    except ValueError:\n",
    "        col = 0\n",
    "    return col\n",
    "\n",
    "jeopardy['clean_value'] = jeopardy['Value'].apply(normalize_value)\n",
    "jeopardy['clean_value']"
   ]
  },
  {
   "cell_type": "code",
   "execution_count": 10,
   "metadata": {
    "collapsed": false
   },
   "outputs": [
    {
     "data": {
      "text/plain": [
       "Show Number                int64\n",
       "Air Date          datetime64[ns]\n",
       "Round                     object\n",
       "Category                  object\n",
       "Value                     object\n",
       "Question                  object\n",
       "Answer                    object\n",
       "clean_question            object\n",
       "clean_answer              object\n",
       "clean_value                int64\n",
       "dtype: object"
      ]
     },
     "execution_count": 10,
     "metadata": {},
     "output_type": "execute_result"
    }
   ],
   "source": [
    "jeopardy['Air Date'] = pd.to_datetime(jeopardy['Air Date'])\n",
    "jeopardy.dtypes"
   ]
  },
  {
   "cell_type": "code",
   "execution_count": 11,
   "metadata": {
    "collapsed": false
   },
   "outputs": [
    {
     "data": {
      "text/plain": [
       "0        0.000000\n",
       "1        0.000000\n",
       "2        0.000000\n",
       "3        0.000000\n",
       "4        0.000000\n",
       "5        0.000000\n",
       "6        0.000000\n",
       "7        0.000000\n",
       "8        0.000000\n",
       "9        0.333333\n",
       "10       0.000000\n",
       "11       0.000000\n",
       "12       0.000000\n",
       "13       0.000000\n",
       "14       0.500000\n",
       "15       0.000000\n",
       "16       0.000000\n",
       "17       0.000000\n",
       "18       0.000000\n",
       "19       0.000000\n",
       "20       0.000000\n",
       "21       0.000000\n",
       "22       0.000000\n",
       "23       0.000000\n",
       "24       0.500000\n",
       "25       0.000000\n",
       "26       0.000000\n",
       "27       0.000000\n",
       "28       0.000000\n",
       "29       0.000000\n",
       "           ...   \n",
       "19969    0.000000\n",
       "19970    0.000000\n",
       "19971    0.000000\n",
       "19972    0.000000\n",
       "19973    0.000000\n",
       "19974    0.333333\n",
       "19975    0.000000\n",
       "19976    0.000000\n",
       "19977    0.000000\n",
       "19978    0.000000\n",
       "19979    0.000000\n",
       "19980    0.500000\n",
       "19981    0.500000\n",
       "19982    0.000000\n",
       "19983    0.000000\n",
       "19984    0.000000\n",
       "19985    0.000000\n",
       "19986    0.000000\n",
       "19987    0.000000\n",
       "19988    0.000000\n",
       "19989    0.000000\n",
       "19990    0.000000\n",
       "19991    0.000000\n",
       "19992    0.000000\n",
       "19993    0.000000\n",
       "19994    1.000000\n",
       "19995    0.000000\n",
       "19996    0.000000\n",
       "19997    0.000000\n",
       "19998    0.000000\n",
       "Name: answer_in_question, dtype: float64"
      ]
     },
     "execution_count": 11,
     "metadata": {},
     "output_type": "execute_result"
    }
   ],
   "source": [
    "def answer_in_question(row):\n",
    "    split_answer = row['clean_answer'].split(\" \")\n",
    "    split_question = row['clean_question'].split(\" \")\n",
    "    \n",
    "    match_count = 0\n",
    "    \n",
    "    if 'the' in split_answer:\n",
    "        split_answer.remove('the')\n",
    "        \n",
    "    if len(split_answer) == 0:\n",
    "        return 0\n",
    "    \n",
    "    for answer in split_answer:\n",
    "        if answer in split_question:\n",
    "            match_count+=1\n",
    "    \n",
    "    return match_count / len(split_answer)\n",
    "\n",
    "jeopardy['answer_in_question'] = jeopardy.apply(answer_in_question, axis=1)\n",
    "jeopardy['answer_in_question']"
   ]
  },
  {
   "cell_type": "code",
   "execution_count": 12,
   "metadata": {
    "collapsed": false
   },
   "outputs": [
    {
     "data": {
      "text/plain": [
       "0.060352773854698942"
      ]
     },
     "execution_count": 12,
     "metadata": {},
     "output_type": "execute_result"
    }
   ],
   "source": [
    "jeopardy['answer_in_question'].mean()"
   ]
  },
  {
   "cell_type": "markdown",
   "metadata": {},
   "source": [
    "This means that only 6% of the times, we can deduce answers from the questions. 6% isn't a huge number and so we cannot rely on this strategy. So we will have to study for winning."
   ]
  },
  {
   "cell_type": "code",
   "execution_count": 13,
   "metadata": {
    "collapsed": false,
    "scrolled": false
   },
   "outputs": [
    {
     "data": {
      "text/plain": [
       "19325    0.000000\n",
       "19301    0.000000\n",
       "19302    0.000000\n",
       "19303    0.500000\n",
       "19304    0.000000\n",
       "19305    0.000000\n",
       "19306    0.000000\n",
       "19307    0.000000\n",
       "19308    0.000000\n",
       "19309    0.000000\n",
       "19310    0.000000\n",
       "19311    0.000000\n",
       "19312    0.000000\n",
       "19313    0.000000\n",
       "19314    0.000000\n",
       "19315    0.000000\n",
       "19316    0.000000\n",
       "19317    0.000000\n",
       "19318    0.000000\n",
       "19319    0.000000\n",
       "19320    0.000000\n",
       "19321    0.000000\n",
       "19322    0.000000\n",
       "19323    0.000000\n",
       "19300    0.000000\n",
       "19324    0.000000\n",
       "19299    0.000000\n",
       "19297    0.000000\n",
       "19274    0.000000\n",
       "19275    0.000000\n",
       "           ...   \n",
       "1973     0.333333\n",
       "1974     1.000000\n",
       "1959     1.000000\n",
       "1958     0.800000\n",
       "1957     1.000000\n",
       "1956     1.000000\n",
       "1934     1.000000\n",
       "1935     0.571429\n",
       "1936     1.000000\n",
       "1937     1.000000\n",
       "1938     0.666667\n",
       "1939     0.666667\n",
       "1940     1.000000\n",
       "1941     0.500000\n",
       "1942     0.833333\n",
       "1943     1.000000\n",
       "1932     1.000000\n",
       "1944     0.666667\n",
       "1946     0.833333\n",
       "1947     0.750000\n",
       "1948     0.800000\n",
       "1949     1.000000\n",
       "1950     1.000000\n",
       "1951     1.000000\n",
       "1952     1.000000\n",
       "1953     1.000000\n",
       "1954     0.600000\n",
       "1955     1.000000\n",
       "1945     1.000000\n",
       "1922     1.000000\n",
       "Name: question_overlap, dtype: float64"
      ]
     },
     "execution_count": 13,
     "metadata": {},
     "output_type": "execute_result"
    }
   ],
   "source": [
    "jeopardy = jeopardy.sort_values('Air Date')\n",
    "question_overlap = []\n",
    "terms_used = set()\n",
    "for i, row in jeopardy.iterrows():\n",
    "    split_question = row['clean_question'].split(\" \")\n",
    "    \n",
    "    split_question = [i for i in split_question if len(i) > 5]\n",
    "\n",
    "    match_count = 0\n",
    "    \n",
    "    for word in split_question:\n",
    "        if word in terms_used:\n",
    "            match_count+=1\n",
    "    \n",
    "    for word in split_question:\n",
    "        terms_used.add(word)\n",
    "    \n",
    "    if len(split_question)>0:\n",
    "        match_count = match_count / len(split_question)\n",
    "    question_overlap.append(match_count)\n",
    "\n",
    "jeopardy['question_overlap'] = question_overlap\n",
    "jeopardy['question_overlap']    "
   ]
  },
  {
   "cell_type": "code",
   "execution_count": 14,
   "metadata": {
    "collapsed": false,
    "scrolled": true
   },
   "outputs": [
    {
     "data": {
      "text/plain": [
       "0.68712428809667803"
      ]
     },
     "execution_count": 14,
     "metadata": {},
     "output_type": "execute_result"
    }
   ],
   "source": [
    "jeopardy['question_overlap'].mean()"
   ]
  },
  {
   "cell_type": "markdown",
   "metadata": {},
   "source": [
    "This means that 69% of the questions(not the questions but important phrases) are repeated."
   ]
  },
  {
   "cell_type": "code",
   "execution_count": 15,
   "metadata": {
    "collapsed": false,
    "scrolled": false
   },
   "outputs": [
    {
     "data": {
      "text/plain": [
       "19325    0\n",
       "19301    0\n",
       "19302    0\n",
       "19303    0\n",
       "19304    0\n",
       "19305    0\n",
       "19306    0\n",
       "19307    0\n",
       "19308    0\n",
       "19309    0\n",
       "19310    0\n",
       "19311    0\n",
       "19312    0\n",
       "19313    0\n",
       "19314    0\n",
       "19315    0\n",
       "19316    0\n",
       "19317    0\n",
       "19318    1\n",
       "19319    0\n",
       "19320    1\n",
       "19321    1\n",
       "19322    1\n",
       "19323    1\n",
       "19300    0\n",
       "19324    1\n",
       "19299    0\n",
       "19297    0\n",
       "19274    0\n",
       "19275    0\n",
       "        ..\n",
       "1973     1\n",
       "1974     0\n",
       "1959     1\n",
       "1958     1\n",
       "1957     1\n",
       "1956     1\n",
       "1934     0\n",
       "1935     0\n",
       "1936     0\n",
       "1937     0\n",
       "1938     0\n",
       "1939     1\n",
       "1940     1\n",
       "1941     1\n",
       "1942     1\n",
       "1943     1\n",
       "1932     0\n",
       "1944     1\n",
       "1946     0\n",
       "1947     0\n",
       "1948     0\n",
       "1949     0\n",
       "1950     0\n",
       "1951     0\n",
       "1952     0\n",
       "1953     0\n",
       "1954     0\n",
       "1955     0\n",
       "1945     0\n",
       "1922     0\n",
       "Name: high_value, dtype: int64"
      ]
     },
     "execution_count": 15,
     "metadata": {},
     "output_type": "execute_result"
    }
   ],
   "source": [
    "def every_row_value(row):\n",
    "    if row['clean_value'] > 800:\n",
    "        value = 1\n",
    "    else:\n",
    "        value = 0\n",
    "    return value\n",
    "jeopardy['high_value'] = jeopardy.apply(every_row_value, axis=1)\n",
    "jeopardy['high_value']"
   ]
  },
  {
   "cell_type": "code",
   "execution_count": 16,
   "metadata": {
    "collapsed": false
   },
   "outputs": [
    {
     "name": "stdout",
     "output_type": "stream",
     "text": [
      "grandcamp\n",
      "targetblankvideo\n",
      "feathered\n",
      "hrefhttpwwwjarchivecommedia20110121j27jpg\n",
      "speakers\n"
     ]
    },
    {
     "data": {
      "text/plain": [
       "[[0, 1], [0, 3], [2, 2], [1, 0], [1, 3]]"
      ]
     },
     "execution_count": 16,
     "metadata": {},
     "output_type": "execute_result"
    }
   ],
   "source": [
    "def high_low(word):\n",
    "    low_count = 0\n",
    "    high_count = 0\n",
    "    \n",
    "    for i, row in jeopardy.iterrows():\n",
    "        split_question = row['clean_question'].split(' ')\n",
    "        if word in split_question:\n",
    "            if row['high_value'] == 1:\n",
    "                high_count+=1\n",
    "            else:\n",
    "                low_count+=1\n",
    "    \n",
    "    return high_count, low_count\n",
    "\n",
    "observed_expected = []\n",
    "comparison_terms = list(terms_used)[:5]\n",
    "for term in comparison_terms:\n",
    "    print (term)\n",
    "    h,l = high_low(term)\n",
    "    observed_expected.append([h,l])\n",
    "observed_expected"
   ]
  },
  {
   "cell_type": "code",
   "execution_count": 21,
   "metadata": {
    "collapsed": false,
    "scrolled": false
   },
   "outputs": [
    {
     "data": {
      "text/plain": [
       "[(0.40196284612688399, 0.52607729857054686),\n",
       " (1.2058885383806519, 0.27214791766902047),\n",
       " (0.88975496332255899, 0.34554371914834681),\n",
       " (2.4877921171956752, 0.11473257634454047),\n",
       " (0.026364433084407689, 0.87101348468892104)]"
      ]
     },
     "execution_count": 21,
     "metadata": {},
     "output_type": "execute_result"
    }
   ],
   "source": [
    "from scipy.stats import chisquare\n",
    "\n",
    "high_value_count = jeopardy[jeopardy['high_value'] == 1].shape[0]\n",
    "low_value_count = jeopardy[jeopardy['high_value'] == 0].shape[0]\n",
    "\n",
    "chi_squared = []\n",
    "\n",
    "for i in observed_expected:\n",
    "    total = sum(i)\n",
    "    total_prop = total / jeopardy.shape[0]\n",
    "    expected_high_value = total_prop * high_value_count\n",
    "    expected_low_value = total_prop * low_value_count\n",
    "    \n",
    "    observed = [i[0], i[1]]\n",
    "    expected = [expected_high_value, expected_low_value]\n",
    "    \n",
    "    chi_squared.append(chisquare(observed, expected))\n",
    "\n",
    "chi_squared"
   ]
  }
 ],
 "metadata": {
  "kernelspec": {
   "display_name": "Python 3",
   "language": "python",
   "name": "python3"
  },
  "language_info": {
   "codemirror_mode": {
    "name": "ipython",
    "version": 3
   },
   "file_extension": ".py",
   "mimetype": "text/x-python",
   "name": "python",
   "nbconvert_exporter": "python",
   "pygments_lexer": "ipython3",
   "version": "3.4.3"
  }
 },
 "nbformat": 4,
 "nbformat_minor": 0
}
